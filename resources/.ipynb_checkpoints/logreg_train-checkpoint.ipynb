{
 "cells": [
  {
   "cell_type": "markdown",
   "metadata": {},
   "source": [
    "# Logreg train - Python 42"
   ]
  },
  {
   "cell_type": "code",
   "execution_count": 6,
   "metadata": {},
   "outputs": [],
   "source": [
    "import pandas as pd\n",
    "import numpy as np\n",
    "import copy"
   ]
  },
  {
   "cell_type": "code",
   "execution_count": 7,
   "metadata": {
    "scrolled": true
   },
   "outputs": [
    {
     "data": {
      "text/html": [
       "<div>\n",
       "<style scoped>\n",
       "    .dataframe tbody tr th:only-of-type {\n",
       "        vertical-align: middle;\n",
       "    }\n",
       "\n",
       "    .dataframe tbody tr th {\n",
       "        vertical-align: top;\n",
       "    }\n",
       "\n",
       "    .dataframe thead th {\n",
       "        text-align: right;\n",
       "    }\n",
       "</style>\n",
       "<table border=\"1\" class=\"dataframe\">\n",
       "  <thead>\n",
       "    <tr style=\"text-align: right;\">\n",
       "      <th></th>\n",
       "      <th>Hogwarts House</th>\n",
       "      <th>First Name</th>\n",
       "      <th>Last Name</th>\n",
       "      <th>Birthday</th>\n",
       "      <th>Best Hand</th>\n",
       "      <th>Arithmancy</th>\n",
       "      <th>Astronomy</th>\n",
       "      <th>Herbology</th>\n",
       "      <th>Defense Against the Dark Arts</th>\n",
       "      <th>Divination</th>\n",
       "      <th>Muggle Studies</th>\n",
       "      <th>Ancient Runes</th>\n",
       "      <th>History of Magic</th>\n",
       "      <th>Transfiguration</th>\n",
       "      <th>Potions</th>\n",
       "      <th>Care of Magical Creatures</th>\n",
       "      <th>Charms</th>\n",
       "      <th>Flying</th>\n",
       "    </tr>\n",
       "  </thead>\n",
       "  <tbody>\n",
       "    <tr>\n",
       "      <th>0</th>\n",
       "      <td>Ravenclaw</td>\n",
       "      <td>Tamara</td>\n",
       "      <td>Hsu</td>\n",
       "      <td>2000-03-30</td>\n",
       "      <td>Left</td>\n",
       "      <td>58384.0</td>\n",
       "      <td>-487.886086</td>\n",
       "      <td>5.727180</td>\n",
       "      <td>4.878861</td>\n",
       "      <td>4.722</td>\n",
       "      <td>272.035831</td>\n",
       "      <td>532.484226</td>\n",
       "      <td>5.231058</td>\n",
       "      <td>1039.788281</td>\n",
       "      <td>3.790369</td>\n",
       "      <td>0.715939</td>\n",
       "      <td>-232.79405</td>\n",
       "      <td>-26.89</td>\n",
       "    </tr>\n",
       "    <tr>\n",
       "      <th>1</th>\n",
       "      <td>Slytherin</td>\n",
       "      <td>Erich</td>\n",
       "      <td>Paredes</td>\n",
       "      <td>1999-10-14</td>\n",
       "      <td>Right</td>\n",
       "      <td>67239.0</td>\n",
       "      <td>-552.060507</td>\n",
       "      <td>-5.987446</td>\n",
       "      <td>5.520605</td>\n",
       "      <td>-5.612</td>\n",
       "      <td>-487.340557</td>\n",
       "      <td>367.760303</td>\n",
       "      <td>4.107170</td>\n",
       "      <td>1058.944592</td>\n",
       "      <td>7.248742</td>\n",
       "      <td>0.091674</td>\n",
       "      <td>-252.18425</td>\n",
       "      <td>-113.45</td>\n",
       "    </tr>\n",
       "    <tr>\n",
       "      <th>2</th>\n",
       "      <td>Ravenclaw</td>\n",
       "      <td>Stephany</td>\n",
       "      <td>Braun</td>\n",
       "      <td>1999-11-03</td>\n",
       "      <td>Left</td>\n",
       "      <td>23702.0</td>\n",
       "      <td>-366.076117</td>\n",
       "      <td>7.725017</td>\n",
       "      <td>3.660761</td>\n",
       "      <td>6.140</td>\n",
       "      <td>664.893521</td>\n",
       "      <td>602.585284</td>\n",
       "      <td>3.555579</td>\n",
       "      <td>1088.088348</td>\n",
       "      <td>8.728531</td>\n",
       "      <td>-0.515327</td>\n",
       "      <td>-227.34265</td>\n",
       "      <td>30.42</td>\n",
       "    </tr>\n",
       "    <tr>\n",
       "      <th>3</th>\n",
       "      <td>Gryffindor</td>\n",
       "      <td>Vesta</td>\n",
       "      <td>Mcmichael</td>\n",
       "      <td>2000-08-19</td>\n",
       "      <td>Left</td>\n",
       "      <td>32667.0</td>\n",
       "      <td>697.742809</td>\n",
       "      <td>-6.497214</td>\n",
       "      <td>-6.977428</td>\n",
       "      <td>4.026</td>\n",
       "      <td>-537.001128</td>\n",
       "      <td>523.982133</td>\n",
       "      <td>-4.809637</td>\n",
       "      <td>920.391449</td>\n",
       "      <td>0.821911</td>\n",
       "      <td>-0.014040</td>\n",
       "      <td>-256.84675</td>\n",
       "      <td>200.64</td>\n",
       "    </tr>\n",
       "  </tbody>\n",
       "</table>\n",
       "</div>"
      ],
      "text/plain": [
       "  Hogwarts House First Name  Last Name    Birthday Best Hand  Arithmancy  \\\n",
       "0      Ravenclaw     Tamara        Hsu  2000-03-30      Left     58384.0   \n",
       "1      Slytherin      Erich    Paredes  1999-10-14     Right     67239.0   \n",
       "2      Ravenclaw   Stephany      Braun  1999-11-03      Left     23702.0   \n",
       "3     Gryffindor      Vesta  Mcmichael  2000-08-19      Left     32667.0   \n",
       "\n",
       "    Astronomy  Herbology  Defense Against the Dark Arts  Divination  \\\n",
       "0 -487.886086   5.727180                       4.878861       4.722   \n",
       "1 -552.060507  -5.987446                       5.520605      -5.612   \n",
       "2 -366.076117   7.725017                       3.660761       6.140   \n",
       "3  697.742809  -6.497214                      -6.977428       4.026   \n",
       "\n",
       "   Muggle Studies  Ancient Runes  History of Magic  Transfiguration   Potions  \\\n",
       "0      272.035831     532.484226          5.231058      1039.788281  3.790369   \n",
       "1     -487.340557     367.760303          4.107170      1058.944592  7.248742   \n",
       "2      664.893521     602.585284          3.555579      1088.088348  8.728531   \n",
       "3     -537.001128     523.982133         -4.809637       920.391449  0.821911   \n",
       "\n",
       "   Care of Magical Creatures     Charms  Flying  \n",
       "0                   0.715939 -232.79405  -26.89  \n",
       "1                   0.091674 -252.18425 -113.45  \n",
       "2                  -0.515327 -227.34265   30.42  \n",
       "3                  -0.014040 -256.84675  200.64  "
      ]
     },
     "execution_count": 7,
     "metadata": {},
     "output_type": "execute_result"
    }
   ],
   "source": [
    "train_data = pd.read_csv(\"dataset_train.csv\")\n",
    "train_data = train_data.drop(['Index'], axis=1)\n",
    "train_data.head(4)"
   ]
  },
  {
   "cell_type": "markdown",
   "metadata": {},
   "source": [
    "## Code for the logistic regression"
   ]
  },
  {
   "cell_type": "markdown",
   "metadata": {},
   "source": [
    "### Defining the training and testing sets"
   ]
  },
  {
   "cell_type": "code",
   "execution_count": 57,
   "metadata": {},
   "outputs": [],
   "source": [
    "class preprocess:\n",
    "    \n",
    "    def __init__(self):\n",
    "        self=self\n",
    "    \n",
    "    def __cleaning(self,path,column):\n",
    "        data = pd.read_csv(path)\n",
    "        data = data.dropna().reset_index(drop=True)\n",
    "        data = data.drop(['Index'], axis=1)\n",
    "        spread = pd.get_dummies(data[str(column)])\n",
    "        final_data = pd.concat([data, spread], axis=1)\n",
    "        return final_data\n",
    "    \n",
    "    def __minimum(self,frame):\n",
    "        m = frame.iloc[0]\n",
    "        for i in np.arange(1, len(frame)):\n",
    "            if (m > frame.iloc[i]): m = frame.iloc[i]\n",
    "        return m\n",
    "    \n",
    "    def __maximum(self,frame):\n",
    "        m = frame.iloc[0]\n",
    "        for i in np.arange(1, len(frame)):\n",
    "            if (m < frame.iloc[i]): m = frame.iloc[i]\n",
    "        return m\n",
    "    \n",
    "    def __selection(self,data):\n",
    "        inter = data._get_numeric_data()\n",
    "        final_data = pd.DataFrame(index=data.index)\n",
    "        for column in list(inter.columns):\n",
    "            final_data[column] = (inter[column] - self.__minimum(inter[column]))/(self.__maximum(inter[column]) - self.__minimum(inter[column]))\n",
    "        return final_data\n",
    "    \n",
    "    def __add_intercept(self,data):\n",
    "        cols = data.columns\n",
    "        data['Intercept'] = 1\n",
    "        return data.filter(['Intercept'] + list(cols))\n",
    "        \n",
    "    def preprocess(self,path,column):\n",
    "        data = self.__cleaning(path, column)\n",
    "        inter_data = self.__selection(data)\n",
    "        final_data = self.__add_intercept(inter_data)\n",
    "        return final_data"
   ]
  },
  {
   "cell_type": "markdown",
   "metadata": {},
   "source": [
    "We create a class for the Logistic Regresssion model"
   ]
  },
  {
   "cell_type": "code",
   "execution_count": 65,
   "metadata": {},
   "outputs": [],
   "source": [
    "class LogReg:\n",
    "    \n",
    "    def __init__(self, lr, iterations):\n",
    "        self.lr = lr\n",
    "        self.iterations = iterations\n",
    "\n",
    "    def __sigmoid(self,z):\n",
    "        return 1 / (1 + np.exp(-z))\n",
    "    \n",
    "    def fit(self, X, y):\n",
    "        self.theta = np.zeros(X.shape[1])\n",
    "        \n",
    "        for i in np.arange(0,self.iterations):\n",
    "            z = np.dot(X, self.theta)\n",
    "            h = self.__sigmoid(z)\n",
    "            gradient = 1/y.size * np.dot(X.T, (h-y))\n",
    "            self.theta -= self.lr*gradient\n",
    "    \n",
    "    def probability(self, X):\n",
    "        return self.__sigmoid(np.dot(X, self.theta))\n",
    "\n",
    "    def predict(self,X):\n",
    "        return np.random.binomial(1, self.__sigmoid(np.dot(X, self.theta)))"
   ]
  },
  {
   "cell_type": "markdown",
   "metadata": {},
   "source": [
    "Now that we have one regression model, a OVA solution would be to train 4 different models, one for each house and then keep the prediction with the highest probability for each student."
   ]
  },
  {
   "cell_type": "code",
   "execution_count": 116,
   "metadata": {},
   "outputs": [],
   "source": [
    "def weights(data, outputs,model):\n",
    "    inter = data.drop(outputs, axis=1)\n",
    "    results = pd.DataFrame(index=np.arange(0, len(list(inter.columns))))\n",
    "    for target in outputs:\n",
    "        model.fit(inter, data[target])\n",
    "        partial = pd.DataFrame(model.theta)\n",
    "        partial.columns = ['Weights '+str(target)]\n",
    "        results = pd.concat([results, partial], axis=1)   \n",
    "    return results\n",
    "\n",
    "def accuracy(data,outputs,model):\n",
    "    output = pd.DataFrame(data.filter(outputs, axis=1).idxmax(axis=1))\n",
    "    inter = inter = data.drop(outputs, axis=1)\n",
    "    probabilities = pd.DataFrame(index=np.arange(0, len(list(inter.columns))))\n",
    "\n",
    "    for target in outputs:\n",
    "        model.fit(inter, data[target])\n",
    "        proba = pd.DataFrame(model.probability(inter))\n",
    "        proba.columns = [str(target)]\n",
    "        probabilities = pd.concat([probabilities, proba], axis=1)    \n",
    "\n",
    "    probabilities['Results'] = probabilities.idxmax(axis=1)\n",
    "    probabilities['Actual'] = output\n",
    "    \n",
    "    count = 0\n",
    "    for i in np.arange(0,len(probabilities['Results'])):\n",
    "        if (probabilities['Results'].iloc[i]==probabilities['Actual'].iloc[i]): count += 1\n",
    "    return count/len(probabilities['Results'])"
   ]
  },
  {
   "cell_type": "markdown",
   "metadata": {},
   "source": [
    "Wrap up function"
   ]
  },
  {
   "cell_type": "code",
   "execution_count": 119,
   "metadata": {},
   "outputs": [],
   "source": [
    "def training(path,output_column):\n",
    "    pre = preprocess()\n",
    "    data = pre.preprocess(path,output_column)\n",
    "    outputs = ['Gryffindor', 'Slytherin', 'Ravenclaw', 'Hufflepuff']\n",
    "    model = LogReg(lr = 0.01, iterations = 1000)\n",
    "    \n",
    "    weights(data,outputs,model).to_csv('logreg_weights.csv')\n",
    "    print(accuracy(data,outputs,model))"
   ]
  },
  {
   "cell_type": "code",
   "execution_count": 120,
   "metadata": {},
   "outputs": [
    {
     "name": "stdout",
     "output_type": "stream",
     "text": [
      "0.9280575539568345\n"
     ]
    }
   ],
   "source": [
    "training('dataset_train.csv', 'Hogwarts House')"
   ]
  }
 ],
 "metadata": {
  "kernelspec": {
   "display_name": "Python 3",
   "language": "python",
   "name": "python3"
  },
  "language_info": {
   "codemirror_mode": {
    "name": "ipython",
    "version": 3
   },
   "file_extension": ".py",
   "mimetype": "text/x-python",
   "name": "python",
   "nbconvert_exporter": "python",
   "pygments_lexer": "ipython3",
   "version": "3.6.4"
  }
 },
 "nbformat": 4,
 "nbformat_minor": 2
}
